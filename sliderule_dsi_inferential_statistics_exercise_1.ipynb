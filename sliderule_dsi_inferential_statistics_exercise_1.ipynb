{
 "cells": [
  {
   "cell_type": "markdown",
   "metadata": {},
   "source": [
    "# What is the True Normal Human Body Temperature? \n",
    "\n",
    "#### Background\n",
    "\n",
    "The mean normal body temperature was held to be 37$^{\\circ}$C or 98.6$^{\\circ}$F for more than 120 years since it was first conceptualized and reported by Carl Wunderlich in a famous 1868 book. But, is this value statistically correct?"
   ]
  },
  {
   "cell_type": "markdown",
   "metadata": {},
   "source": [
    "<div class=\"span5 alert alert-info\">\n",
    "<h3>Exercises</h3>\n",
    "\n",
    "<p>In this exercise, you will analyze a dataset of human body temperatures and employ the concepts of hypothesis testing, confidence intervals, and statistical significance.</p>\n",
    "\n",
    "<p>Answer the following questions <b>in this notebook below and submit to your Github account</b>.</p> \n",
    "\n",
    "<ol>\n",
    "<li>  Is the distribution of body temperatures normal? \n",
    "    <ul>\n",
    "    <li> Although this is not a requirement for CLT to hold (read CLT carefully), it gives us some peace of mind that the population may also be normally distributed if we assume that this sample is representative of the population.\n",
    "    </ul>\n",
    "<li>  Is the sample size large? Are the observations independent?\n",
    "    <ul>\n",
    "    <li> Remember that this is a condition for the CLT, and hence the statistical tests we are using, to apply.\n",
    "    </ul>\n",
    "<li>  Is the true population mean really 98.6 degrees F?\n",
    "    <ul>\n",
    "    <li> Would you use a one-sample or two-sample test? Why?\n",
    "    <li> In this situation, is it appropriate to use the $t$ or $z$ statistic? \n",
    "    <li> Now try using the other test. How is the result be different? Why?\n",
    "    </ul>\n",
    "<li>  At what temperature should we consider someone's temperature to be \"abnormal\"?\n",
    "    <ul>\n",
    "    <li> Start by computing the margin of error and confidence interval.\n",
    "    </ul>\n",
    "<li>  Is there a significant difference between males and females in normal temperature?\n",
    "    <ul>\n",
    "    <li> What test did you use and why?\n",
    "    <li> Write a story with your conclusion in the context of the original problem.\n",
    "    </ul>\n",
    "</ol>\n",
    "\n",
    "You can include written notes in notebook cells using Markdown: \n",
    "   - In the control panel at the top, choose Cell > Cell Type > Markdown\n",
    "   - Markdown syntax: http://nestacms.com/docs/creating-content/markdown-cheat-sheet\n",
    "\n",
    "#### Resources\n",
    "\n",
    "+ Information and data sources: http://www.amstat.org/publications/jse/datasets/normtemp.txt, http://www.amstat.org/publications/jse/jse_data_archive.htm\n",
    "+ Markdown syntax: http://nestacms.com/docs/creating-content/markdown-cheat-sheet\n",
    "\n",
    "****\n",
    "</div>"
   ]
  },
  {
   "cell_type": "code",
   "execution_count": 179,
   "metadata": {
    "collapsed": true
   },
   "outputs": [],
   "source": [
    "import pandas as pd\n",
    "\n",
    "df = pd.read_csv('data/human_body_temperature.csv')"
   ]
  },
  {
   "cell_type": "code",
   "execution_count": 180,
   "metadata": {
    "collapsed": false
   },
   "outputs": [
    {
     "data": {
      "text/html": [
       "<div>\n",
       "<table border=\"1\" class=\"dataframe\">\n",
       "  <thead>\n",
       "    <tr style=\"text-align: right;\">\n",
       "      <th></th>\n",
       "      <th>temperature</th>\n",
       "      <th>gender</th>\n",
       "      <th>heart_rate</th>\n",
       "    </tr>\n",
       "  </thead>\n",
       "  <tbody>\n",
       "    <tr>\n",
       "      <th>0</th>\n",
       "      <td>99.3</td>\n",
       "      <td>F</td>\n",
       "      <td>68.0</td>\n",
       "    </tr>\n",
       "    <tr>\n",
       "      <th>1</th>\n",
       "      <td>98.4</td>\n",
       "      <td>F</td>\n",
       "      <td>81.0</td>\n",
       "    </tr>\n",
       "    <tr>\n",
       "      <th>2</th>\n",
       "      <td>97.8</td>\n",
       "      <td>M</td>\n",
       "      <td>73.0</td>\n",
       "    </tr>\n",
       "    <tr>\n",
       "      <th>3</th>\n",
       "      <td>99.2</td>\n",
       "      <td>F</td>\n",
       "      <td>66.0</td>\n",
       "    </tr>\n",
       "    <tr>\n",
       "      <th>4</th>\n",
       "      <td>98.0</td>\n",
       "      <td>F</td>\n",
       "      <td>73.0</td>\n",
       "    </tr>\n",
       "  </tbody>\n",
       "</table>\n",
       "</div>"
      ],
      "text/plain": [
       "   temperature gender  heart_rate\n",
       "0         99.3      F        68.0\n",
       "1         98.4      F        81.0\n",
       "2         97.8      M        73.0\n",
       "3         99.2      F        66.0\n",
       "4         98.0      F        73.0"
      ]
     },
     "execution_count": 180,
     "metadata": {},
     "output_type": "execute_result"
    }
   ],
   "source": [
    "# Your work here.\n",
    "import numpy as np\n",
    "df.head()"
   ]
  },
  {
   "cell_type": "markdown",
   "metadata": {
    "collapsed": false
   },
   "source": [
    "# Is the distribution of body temperatures normal?\n",
    "RESULT: Plotting the distribution of body temperature histogram, it looks like it is normal distribution. So Yes it is normal distribution."
   ]
  },
  {
   "cell_type": "code",
   "execution_count": 198,
   "metadata": {
    "collapsed": false
   },
   "outputs": [
    {
     "data": {
      "image/png": "[encoded data removed]",
      "text/plain": [
       "<matplotlib.figure.Figure at 0x11c04b0f0>"
      ]
     },
     "metadata": {},
     "output_type": "display_data"
    }
   ],
   "source": [
    "import matplotlib.pyplot as plt\n",
    "import seaborn as sns\n",
    "plt.hist(df['temperature'], normed = 'True', bins = 15)\n",
    "plt.show()"
   ]
  },
  {
   "cell_type": "markdown",
   "metadata": {
    "collapsed": false
   },
   "source": [
    "# Is the sample size large? Are the observations independent?\n",
    "RESULTS: Sample size of 130 which is considered to be large. Observations are independent because upon comparing the relationship between two different variables recorded for the same people it doesnt show any relation. "
   ]
  },
  {
   "cell_type": "code",
   "execution_count": 199,
   "metadata": {
    "collapsed": false
   },
   "outputs": [
    {
     "data": {
      "image/png": "[encoded data removed]",
      "text/plain": [
       "<matplotlib.figure.Figure at 0x11c1d7978>"
      ]
     },
     "metadata": {},
     "output_type": "display_data"
    },
    {
     "name": "stdout",
     "output_type": "stream",
     "text": [
      "\n",
      "-------------------------Summary of Regression Analysis-------------------------\n",
      "\n",
      "Formula: Y ~ <x> + <intercept>\n",
      "\n",
      "Number of Observations:         130\n",
      "Number of Degrees of Freedom:   2\n",
      "\n",
      "R-squared:         0.0643\n",
      "Adj R-squared:     0.0570\n",
      "\n",
      "Rmse:              6.8577\n",
      "\n",
      "F-stat (1, 128):     8.8021, p-value:     0.0036\n",
      "\n",
      "Degrees of Freedom: model 1, resid 128\n",
      "\n",
      "-----------------------Summary of Estimated Coefficients------------------------\n",
      "      Variable       Coef    Std Err     t-stat    p-value    CI 2.5%   CI 97.5%\n",
      "--------------------------------------------------------------------------------\n",
      "             x     2.4432     0.8235       2.97     0.0036     0.8291     4.0573\n",
      "     intercept  -166.2847    80.9123      -2.06     0.0419  -324.8729    -7.6965\n",
      "---------------------------------End of Summary---------------------------------\n",
      "\n"
     ]
    },
    {
     "name": "stderr",
     "output_type": "stream",
     "text": [
      "/Users/TarjaniAgrawal/anaconda/lib/python3.6/site-packages/IPython/core/interactiveshell.py:2881: FutureWarning: The pandas.stats.ols module is deprecated and will be removed in a future version. We refer to external packages like statsmodels, see some examples here: http://www.statsmodels.org/stable/regression.html\n",
      "  exec(code_obj, self.user_global_ns, self.user_ns)\n"
     ]
    }
   ],
   "source": [
    "# To test for independence of observations\n",
    "#RESULTS: Observations are independent because the regression line is quite flat and also the R square value is much lower than 0.5\n",
    "sns.regplot(x = 'temperature', y= 'heart_rate', data = df)\n",
    "plt.show()\n",
    "from pandas.stats.api import ols\n",
    "res = ols(y = df['heart_rate'], x=df['temperature'])\n",
    "print(res)"
   ]
  },
  {
   "cell_type": "markdown",
   "metadata": {
    "collapsed": false
   },
   "source": [
    "# Is the true population mean really 98.6 degrees F?\n",
    "\n",
    "**Would you use a one-sample or two-sample test? Why?** \n",
    "\n",
    "Answer: We would use one sample test because we are looking at one population as a whole. \n",
    "\n",
    "**In this situation, is it appropriate to use the  t or  z statistic?**\n",
    "\n",
    "Answer: We would use Z statistic because the sample size is 130 which is considered to be big sample size. T statistic is used for small sample size (n < 30)\n",
    "\n",
    "\n",
    "\n",
    "\n",
    "**Step 1**: Calculate sample mean and sample Std dev \n",
    "\n",
    "**Step 2**: Pop std is not given hence, calculate the Best estimate of std dev of sampling distribution of sample mean "
   ]
  },
  {
   "cell_type": "code",
   "execution_count": 200,
   "metadata": {
    "collapsed": false
   },
   "outputs": [
    {
     "name": "stdout",
     "output_type": "stream",
     "text": [
      "98.24923076923078 0.7331831580389454\n",
      "0.0643044168379\n"
     ]
    }
   ],
   "source": [
    "sample_mean , sample_stddev  = df['temperature'].mean(), df['temperature'].std()\n",
    "print(sample_mean, sample_stddev)\n",
    "pop_mean = 98.6\n",
    "sampledist_stddev= sample_stddev/ np.sqrt(130)\n",
    "print(sampledist_stddev)"
   ]
  },
  {
   "cell_type": "markdown",
   "metadata": {
    "collapsed": true
   },
   "source": [
    "**Step 3**: Calculate z estimate"
   ]
  },
  {
   "cell_type": "code",
   "execution_count": 201,
   "metadata": {
    "collapsed": false
   },
   "outputs": [
    {
     "name": "stdout",
     "output_type": "stream",
     "text": [
      "-5.45482329236\n"
     ]
    }
   ],
   "source": [
    "z = (sample_mean - pop_mean)/sampledist_stddev\n",
    "print(z)"
   ]
  },
  {
   "cell_type": "markdown",
   "metadata": {},
   "source": [
    "**Step 4**: Find the probabality of finding the z estimate "
   ]
  },
  {
   "cell_type": "code",
   "execution_count": 209,
   "metadata": {
    "collapsed": false
   },
   "outputs": [
    {
     "name": "stdout",
     "output_type": "stream",
     "text": [
      "4.90215701411e-08\n"
     ]
    }
   ],
   "source": [
    "import scipy.stats as ss\n",
    "p_value = ss.norm.cdf(z)*2\n",
    "print(p_value)"
   ]
  },
  {
   "cell_type": "markdown",
   "metadata": {},
   "source": [
    "**Result:** The probablity of finding the z estimate with true population mean is very low, way below 0.05, therefore\n",
    "the true population mean can not be 98.6\n",
    "\n",
    "\n",
    "**Now try using the other test. How is the result be different? Why?**\n",
    "\n",
    "To do this calculate the t statistic and probability of findind the t statistic "
   ]
  },
  {
   "cell_type": "code",
   "execution_count": 210,
   "metadata": {
    "collapsed": false
   },
   "outputs": [
    {
     "name": "stdout",
     "output_type": "stream",
     "text": [
      "2.41063204156e-07\n"
     ]
    }
   ],
   "source": [
    "t = (sample_mean - pop_mean)/sampledist_stddev\n",
    "p_value = ss.t.cdf(t, 129)*2\n",
    "print(p_value)"
   ]
  },
  {
   "cell_type": "markdown",
   "metadata": {},
   "source": [
    "**Result**: The probablity of finding the t estimate with true population mean is very low, way below 0.05, therefore the true population mean can not be 98.6\n",
    "\n",
    "The results are same using both z statistic and t statistics because for the large sample size the t statistics approximates to z statistic.\n",
    "\n",
    "# At what temperature should we consider someone's temperature to be \"abnormal\"?\n",
    "\n",
    "RESULTS: 95% CI is 98.08 and 98.33, therefore any temperature above or below these values can be considered abnormal. \n"
   ]
  },
  {
   "cell_type": "code",
   "execution_count": 222,
   "metadata": {
    "collapsed": false
   },
   "outputs": [
    {
     "name": "stdout",
     "output_type": "stream",
     "text": [
      "98.3175978391 98.0824021609\n",
      "0.128608833676\n"
     ]
    }
   ],
   "source": [
    "#To Find the 95% confidence interval for two tail test and using approximation of CLT. \n",
    "x1 = ss.norm.ppf(0.975, loc=98.2, scale= 0.06)\n",
    "x2 = ss.norm.ppf(0.025, loc=98.2, scale= 0.06)\n",
    "marginoferror1 = 2 * sampledist_stddev     #because 2 std approx equal to 95% CI\n",
    "print(x1 , x2)\n",
    "print(marginoferror1)"
   ]
  },
  {
   "cell_type": "code",
   "execution_count": 229,
   "metadata": {
    "collapsed": false
   },
   "outputs": [
    {
     "data": {
      "image/png": "[encoded data removed]",
      "text/plain": [
       "<matplotlib.figure.Figure at 0x11c03ec88>"
      ]
     },
     "metadata": {},
     "output_type": "display_data"
    },
    {
     "name": "stdout",
     "output_type": "stream",
     "text": [
      "[ 98.17763338  98.42387876] 0.122837156509\n"
     ]
    }
   ],
   "source": [
    "#To Find the 95% confidence interval for two tail test and using smilations by resmapling the sample \n",
    "#finding the sampling distribution of the sample means. \n",
    "\n",
    "import numpy as np\n",
    "temp = ss.norm.rvs(loc=98.2, scale=.74, size=130, random_state=None)\n",
    "\n",
    "def resample(temp):\n",
    "        \"\"\"Generates a new sample by choosing from the original\n",
    "        sample with replacement.\n",
    "        \"\"\"\n",
    "        new_sample = np.random.choice(temp, 130, replace=True)\n",
    "        return new_sample\n",
    "        def sample_stat(new_sample):\n",
    "            return new_sample.mean()\n",
    "def compute_sample_statistics(temp, iters=1000):\n",
    "    stats = [sample_stat(resample(temp)) for i in range(iters)]\n",
    "    return np.array(stats)\n",
    "\n",
    "\n",
    "sample_means = compute_sample_statistics(temp, iters=1000)\n",
    "\n",
    "\n",
    "plt.hist(sample_means)\n",
    "plt.xlabel('sample mean (n=130)')\n",
    "plt.ylabel('count')\n",
    "plt.show()\n",
    "None\n",
    "\n",
    "conf_int = np.percentile(sample_means, [2.5, 97.5])\n",
    "marginoferror = 2 * sample_means.std()\n",
    "print(conf_int, marginoferror)"
   ]
  },
  {
   "cell_type": "markdown",
   "metadata": {},
   "source": [
    "# Is there a significant difference between males and females in normal temperature? \n",
    "\n",
    "See answer at the end.\n",
    "\n",
    "**What test did you use and why?**\n",
    "\n",
    "I use two sample significance test to compare the difference in mean for the two samples."
   ]
  },
  {
   "cell_type": "code",
   "execution_count": 230,
   "metadata": {
    "collapsed": false
   },
   "outputs": [],
   "source": [
    "df = df.drop('heart_rate', 1)"
   ]
  },
  {
   "cell_type": "code",
   "execution_count": 231,
   "metadata": {
    "collapsed": true
   },
   "outputs": [],
   "source": [
    "#Getting data for male and females separately\n",
    "df_gender = df.groupby(['gender'])\n",
    "df_female = df_gender.get_group('F')\n",
    "df_male = df_gender.get_group('M')\n",
    "group1= df_female['temperature']\n",
    "group2= df_male['temperature']"
   ]
  },
  {
   "cell_type": "markdown",
   "metadata": {},
   "source": [
    "**Step 1:** Define test statistic to get difference of means and calculate the actual difference in means"
   ]
  },
  {
   "cell_type": "code",
   "execution_count": 233,
   "metadata": {
    "collapsed": false
   },
   "outputs": [
    {
     "data": {
      "text/plain": [
       "0.289230769230727"
      ]
     },
     "execution_count": 233,
     "metadata": {},
     "output_type": "execute_result"
    }
   ],
   "source": [
    "def TestStatistic(data):\n",
    "    group1, group2 = data\n",
    "    test_stat = abs(group1.mean() - group2.mean())\n",
    "    return test_stat\n",
    "actual = TestStatistic((group1, group2))\n",
    "actual"
   ]
  },
  {
   "cell_type": "markdown",
   "metadata": {},
   "source": [
    "**Step 2:** Assume null hypothesis that there is no difference between the means and stimulate such a model but randomizing the data points. And the run the model 10000 times and plot to see the distribution of the difference in means"
   ]
  },
  {
   "cell_type": "code",
   "execution_count": 234,
   "metadata": {
    "collapsed": false
   },
   "outputs": [
    {
     "data": {
      "image/png": "[encoded data removed]",
      "text/plain": [
       "<matplotlib.figure.Figure at 0x11c1f4d30>"
      ]
     },
     "metadata": {},
     "output_type": "display_data"
    }
   ],
   "source": [
    "n, m = len(group1), len(group2)\n",
    "pool = np.hstack((group1, group2))\n",
    "def RunModel():\n",
    "    np.random.shuffle(pool)\n",
    "    data = pool[:n], pool[n:]\n",
    "    return data\n",
    "\n",
    "test_stats = np.array([TestStatistic(RunModel()) for i in range(10000)])\n",
    "test_stats.shape\n",
    "plt.vlines(actual, 0, 300, linewidth=3, color='0.8')\n",
    "plt.hist(test_stats)\n",
    "plt.xlabel('difference in means')\n",
    "plt.ylabel('count')\n",
    "plt.show()\n",
    "None\n"
   ]
  },
  {
   "cell_type": "markdown",
   "metadata": {},
   "source": [
    "**Step 3:** Calculate the probability of getting the diff in means as extreme as actual or more than actual. "
   ]
  },
  {
   "cell_type": "code",
   "execution_count": 235,
   "metadata": {
    "collapsed": false
   },
   "outputs": [
    {
     "data": {
      "text/plain": [
       "0.0247"
      ]
     },
     "execution_count": 235,
     "metadata": {},
     "output_type": "execute_result"
    }
   ],
   "source": [
    "pvalue = sum(test_stats >= actual) / len(test_stats)\n",
    "pvalue"
   ]
  },
  {
   "cell_type": "markdown",
   "metadata": {},
   "source": [
    "**RESULT:** Since the probability of getting the actual difference seen in data and even extreme to that is only 2.5%.\n",
    "\n",
    "Which means that when we assume that there is no difference in means we have very low probablity of seening the difference that we are seeing here. \n",
    "\n",
    "Therefore, we can say that this event can not occur purely by chance and hence can reject the null hypothesis and \n",
    "consider the alternate hypothesis that there is significant difference in male and female body temperature. "
   ]
  },
  {
   "cell_type": "markdown",
   "metadata": {},
   "source": [
    "## Write a story with your conclusion in the context of the original problem\n",
    "\n",
    "The mean normal body temperature is considered to be 98.6 F for more than 120 years. It was first conceptualized and reported by Carl Wunderlich in a famous 1868 book. However, we want to check if this reported value is statistically correct. \n",
    "\n",
    "Do to this we looked at the distribution of body temperature for a sample of 130 people and found that the temperature is normally distributed and moreover the values are independent as they were taken from different people as well as the other parameter 'heart rate' did not influence the body temperature. So we considered that central limit theorem can be applied to the sample data to make inference about the population mean body temperature. \n",
    "\n",
    "Next, we tried to estimate the mean body temperature using the data and 95% confidence interval for the mean. To do this we stimulated the experiment for 10000 and calcuted the means and formed the sampling distribution of the sample means. Using this distribution we calculated the mean and found that mean was very different from the actual body temperature reported by the scientist. So we went on to see the probability of finding the z statistic considering the true population mean is indeed the actual mean. Upon doing this we found that the probablity of finding the z statistic is very low and therefore true population mean can not be equal to 98.6 F. \n",
    "\n",
    "To further confirm the results we tried to do the t statistic for the same and since the sample size was quite big the t statistic approximates to z statistic and hence gave same results. \n",
    "\n",
    "Finding the confidence intervals for body temperatures also gave us pretty good idea about normal body temperature range in the people.\n",
    "\n",
    "We further explored the data to find out if the mean body temperature in men is different from that in women. We did the significance test for the problem and found that indeed the men and women body temperatures are significantly different from each other. \n"
   ]
  },
  {
   "cell_type": "code",
   "execution_count": null,
   "metadata": {
    "collapsed": true
   },
   "outputs": [],
   "source": []
  }
 ],
 "metadata": {
  "kernelspec": {
   "display_name": "Python 3",
   "language": "python",
   "name": "python3"
  },
  "language_info": {
   "codemirror_mode": {
    "name": "ipython",
    "version": 3
   },
   "file_extension": ".py",
   "mimetype": "text/x-python",
   "name": "python",
   "nbconvert_exporter": "python",
   "pygments_lexer": "ipython3",
   "version": "3.6.0"
  }
 },
 "nbformat": 4,
 "nbformat_minor": 0
}
